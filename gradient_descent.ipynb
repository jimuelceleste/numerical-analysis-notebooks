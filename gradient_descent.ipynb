{
  "cells": [
    {
      "cell_type": "markdown",
      "metadata": {
        "id": "view-in-github",
        "colab_type": "text"
      },
      "source": [
        "<a href=\"https://colab.research.google.com/github/jimuelceleste/numerical-methods-notes/blob/main/gradient_descent.ipynb\" target=\"_parent\"><img src=\"https://colab.research.google.com/assets/colab-badge.svg\" alt=\"Open In Colab\"/></a>"
      ]
    },
    {
      "cell_type": "markdown",
      "id": "b407e215",
      "metadata": {
        "id": "b407e215"
      },
      "source": [
        "# Gradient Descent \n",
        "$a_{n+1} = a_n - \\gamma \\nabla F(a_n)$"
      ]
    },
    {
      "cell_type": "code",
      "execution_count": 1,
      "id": "a8be5771",
      "metadata": {
        "id": "a8be5771"
      },
      "outputs": [],
      "source": [
        "def gradient_descent(an, step_size, F):\n",
        "    # F is the gradient function\n",
        "    return an - step_size * F(an)"
      ]
    },
    {
      "cell_type": "code",
      "execution_count": 2,
      "id": "60feabb6",
      "metadata": {
        "id": "60feabb6"
      },
      "outputs": [],
      "source": [
        "import numpy as np"
      ]
    },
    {
      "cell_type": "code",
      "execution_count": 3,
      "id": "e8ad1511",
      "metadata": {
        "id": "e8ad1511"
      },
      "outputs": [],
      "source": [
        "import matplotlib.pyplot as plt "
      ]
    },
    {
      "cell_type": "markdown",
      "id": "4470b98a",
      "metadata": {
        "id": "4470b98a"
      },
      "source": [
        "## Example 1: 1D"
      ]
    },
    {
      "cell_type": "code",
      "execution_count": 4,
      "id": "5b3cd2a4",
      "metadata": {
        "id": "5b3cd2a4"
      },
      "outputs": [],
      "source": [
        "def f(x):\n",
        "    return (x*x) - 1\n",
        "\n",
        "def F(x):\n",
        "    return 2 * x"
      ]
    },
    {
      "cell_type": "code",
      "execution_count": 5,
      "id": "5bc6e081",
      "metadata": {
        "colab": {
          "base_uri": "https://localhost:8080/",
          "height": 283
        },
        "id": "5bc6e081",
        "outputId": "6bdda5f8-026c-4e6a-d18f-c4c05d5ff4a9"
      },
      "outputs": [
        {
          "output_type": "execute_result",
          "data": {
            "text/plain": [
              "[<matplotlib.lines.Line2D at 0x7f37763e1690>]"
            ]
          },
          "metadata": {},
          "execution_count": 5
        },
        {
          "output_type": "display_data",
          "data": {
            "text/plain": [
              "<Figure size 432x288 with 1 Axes>"
            ],
            "image/png": "[encoded data removed]"
          },
          "metadata": {
            "needs_background": "light"
          }
        }
      ],
      "source": [
        "x = np.arange(-3, 3, 0.1)\n",
        "y = f(x)\n",
        "plt.plot(x, y)"
      ]
    },
    {
      "cell_type": "code",
      "execution_count": 8,
      "id": "32e7f1fd",
      "metadata": {
        "colab": {
          "base_uri": "https://localhost:8080/",
          "height": 356
        },
        "id": "32e7f1fd",
        "outputId": "1934fdd4-c02b-4fdc-d0af-be8235c99869"
      },
      "outputs": [
        {
          "output_type": "stream",
          "name": "stdout",
          "text": [
            "step 29\n",
            "soln 0.0030948500982134514\n",
            "[2.5, 2.0, 1.6, 1.28, 1.024, 0.8192, 0.65536, 0.5242880000000001, 0.4194304000000001, 0.33554432000000006, 0.26843545600000007, 0.21474836480000006, 0.17179869184000005, 0.13743895347200002, 0.10995116277760002, 0.08796093022208001, 0.070368744177664, 0.056294995342131206, 0.04503599627370496, 0.03602879701896397, 0.028823037615171177, 0.02305843009213694, 0.018446744073709553, 0.014757395258967642, 0.011805916207174114, 0.009444732965739291, 0.0075557863725914335, 0.006044629098073147, 0.004835703278458518, 0.003868562622766814]\n"
          ]
        },
        {
          "output_type": "execute_result",
          "data": {
            "text/plain": [
              "[<matplotlib.lines.Line2D at 0x7f3775db5550>]"
            ]
          },
          "metadata": {},
          "execution_count": 8
        },
        {
          "output_type": "display_data",
          "data": {
            "text/plain": [
              "<Figure size 432x288 with 1 Axes>"
            ],
            "image/png": "[encoded data removed]"
          },
          "metadata": {
            "needs_background": "light"
          }
        }
      ],
      "source": [
        "# with gradient descent, we will try to find the minimum \n",
        "# step size 0.1\n",
        "an = 2.5\n",
        "a = []\n",
        "step_size = 0.1\n",
        "steps = []\n",
        "max_steps = 30\n",
        "\n",
        "for step in range(max_steps):\n",
        "    a.append(an)\n",
        "    steps.append(step) \n",
        "    an_new = gradient_descent(an, step_size, F)\n",
        "    if an_new == an: break\n",
        "    else: an = an_new\n",
        "        \n",
        "print('step', step)\n",
        "print('soln', an)\n",
        "print(a)\n",
        "plt.plot(x, y)\n",
        "plt.plot(a, f(np.array(a)), '-or')"
      ]
    },
    {
      "cell_type": "code",
      "execution_count": 9,
      "id": "fbe774b4",
      "metadata": {
        "colab": {
          "base_uri": "https://localhost:8080/",
          "height": 319
        },
        "id": "fbe774b4",
        "outputId": "4e7d4ff3-9b2e-4c0b-ce57-036d7d1f8813"
      },
      "outputs": [
        {
          "output_type": "stream",
          "name": "stdout",
          "text": [
            "step 1\n",
            "soln 0.0\n"
          ]
        },
        {
          "output_type": "execute_result",
          "data": {
            "text/plain": [
              "[<matplotlib.lines.Line2D at 0x7f3775e76710>]"
            ]
          },
          "metadata": {},
          "execution_count": 9
        },
        {
          "output_type": "display_data",
          "data": {
            "text/plain": [
              "<Figure size 432x288 with 1 Axes>"
            ],
            "image/png": "[encoded data removed]"
          },
          "metadata": {
            "needs_background": "light"
          }
        }
      ],
      "source": [
        "# with gradient descent, we will try to find the minimum \n",
        "# step size 0.5\n",
        "an = 2.5\n",
        "a = []\n",
        "step_size = 0.5\n",
        "steps = []\n",
        "max_steps = 40 \n",
        "\n",
        "for step in range(max_steps):\n",
        "    a.append(an)\n",
        "    steps.append(step) \n",
        "    an_new = gradient_descent(an, step_size, F)\n",
        "    if an_new == an: break\n",
        "    else: an = an_new\n",
        "\n",
        "print('step', step)\n",
        "print('soln', an)\n",
        "plt.plot(x, y)\n",
        "plt.plot(a, f(np.array(a)), '-or')"
      ]
    },
    {
      "cell_type": "markdown",
      "id": "eaf772d0",
      "metadata": {
        "id": "eaf772d0"
      },
      "source": [
        "## Example 2: 2D\n",
        "\n",
        "Example 6.11 Steepest Descent, Chapter 6 Optimization, Scientific Computing, Michael Heath"
      ]
    },
    {
      "cell_type": "code",
      "execution_count": 10,
      "id": "e9eaa802",
      "metadata": {
        "id": "e9eaa802"
      },
      "outputs": [],
      "source": [
        "def g(x):\n",
        "    x1, x2 = x\n",
        "    return 0.5 * x1 * x1 + 2.5 * x2 * x2\n",
        "\n",
        "def G(x):\n",
        "    x1, x2 = x\n",
        "    return np.array([x1, 5 * x2])"
      ]
    },
    {
      "cell_type": "code",
      "execution_count": 11,
      "id": "af9c2cb7",
      "metadata": {
        "id": "af9c2cb7"
      },
      "outputs": [],
      "source": [
        "import pandas as pd"
      ]
    },
    {
      "cell_type": "code",
      "execution_count": 12,
      "id": "a8c3c9bc",
      "metadata": {
        "colab": {
          "base_uri": "https://localhost:8080/",
          "height": 732
        },
        "id": "a8c3c9bc",
        "outputId": "83ffe25e-12c2-457d-c1d2-8ed965cb666c"
      },
      "outputs": [
        {
          "output_type": "stream",
          "name": "stderr",
          "text": [
            "/usr/local/lib/python3.7/dist-packages/pandas/core/internals/blocks.py:937: VisibleDeprecationWarning: Creating an ndarray from ragged nested sequences (which is a list-or-tuple of lists-or-tuples-or ndarrays with different lengths or shapes) is deprecated. If you meant to do this, you must specify 'dtype=object' when creating the ndarray.\n",
            "  arr_value = np.asarray(value)\n"
          ]
        },
        {
          "output_type": "execute_result",
          "data": {
            "text/plain": [
              "                                                 x      g(x)  \\\n",
              "0                                           [5, 1]      15.0   \n",
              "1        [3.3333333333333335, -0.6666666666666665]  6.666667   \n",
              "2         [2.2222222222222223, 0.4444444444444442]  2.962963   \n",
              "3       [1.4814814814814816, -0.29629629629629606]  1.316872   \n",
              "4         [0.9876543209876545, 0.1975308641975307]  0.585277   \n",
              "5       [0.6584362139917697, -0.13168724279835375]  0.260123   \n",
              "6         [0.4389574759945131, 0.0877914951989025]   0.11561   \n",
              "7      [0.29263831732967543, -0.05852766346593499]  0.051382   \n",
              "8       [0.19509221155311696, 0.03901844231062332]  0.022837   \n",
              "9      [0.13006147436874466, -0.02601229487374887]   0.01015   \n",
              "10      [0.0867076495791631, 0.017341529915832578]  0.004511   \n",
              "11   [0.057805099719442074, -0.011561019943888383]  0.002005   \n",
              "12     [0.038536733146294716, 0.00770734662925892]  0.000891   \n",
              "13  [0.025691155430863144, -0.0051382310861726125]  0.000396   \n",
              "14     [0.017127436953908764, 0.00342548739078174]  0.000176   \n",
              "15  [0.011418291302605844, -0.0022836582605211594]  0.000078   \n",
              "16   [0.007612194201737229, 0.0015224388403474393]  0.000035   \n",
              "17  [0.005074796134491487, -0.0010149592268982929]  0.000015   \n",
              "18  [0.0033831974229943246, 0.0006766394845988618]  0.000007   \n",
              "19  [0.002255464948662883, -0.0004510929897325745]  0.000003   \n",
              "\n",
              "                                       gradient(x)  \n",
              "0                                           [5, 5]  \n",
              "1        [3.3333333333333335, -3.3333333333333326]  \n",
              "2          [2.2222222222222223, 2.222222222222221]  \n",
              "3        [1.4814814814814816, -1.4814814814814803]  \n",
              "4         [0.9876543209876545, 0.9876543209876534]  \n",
              "5        [0.6584362139917697, -0.6584362139917688]  \n",
              "6         [0.4389574759945131, 0.4389574759945125]  \n",
              "7      [0.29263831732967543, -0.29263831732967494]  \n",
              "8        [0.19509221155311696, 0.1950922115531166]  \n",
              "9      [0.13006147436874466, -0.13006147436874435]  \n",
              "10       [0.0867076495791631, 0.08670764957916288]  \n",
              "11   [0.057805099719442074, -0.057805099719441914]  \n",
              "12      [0.038536733146294716, 0.0385367331462946]  \n",
              "13    [0.025691155430863144, -0.02569115543086306]  \n",
              "14    [0.017127436953908764, 0.017127436953908698]  \n",
              "15   [0.011418291302605844, -0.011418291302605797]  \n",
              "16   [0.007612194201737229, 0.0076121942017371965]  \n",
              "17   [0.005074796134491487, -0.005074796134491464]  \n",
              "18   [0.0033831974229943246, 0.003383197422994309]  \n",
              "19  [0.002255464948662883, -0.0022554649486628726]  "
            ],
            "text/html": [
              "\n",
              "  <div id=\"df-1b6af0ed-d866-4dcf-8618-15fe60f9cdfd\">\n",
              "    <div class=\"colab-df-container\">\n",
              "      <div>\n",
              "<style scoped>\n",
              "    .dataframe tbody tr th:only-of-type {\n",
              "        vertical-align: middle;\n",
              "    }\n",
              "\n",
              "    .dataframe tbody tr th {\n",
              "        vertical-align: top;\n",
              "    }\n",
              "\n",
              "    .dataframe thead th {\n",
              "        text-align: right;\n",
              "    }\n",
              "</style>\n",
              "<table border=\"1\" class=\"dataframe\">\n",
              "  <thead>\n",
              "    <tr style=\"text-align: right;\">\n",
              "      <th></th>\n",
              "      <th>x</th>\n",
              "      <th>g(x)</th>\n",
              "      <th>gradient(x)</th>\n",
              "    </tr>\n",
              "  </thead>\n",
              "  <tbody>\n",
              "    <tr>\n",
              "      <th>0</th>\n",
              "      <td>[5, 1]</td>\n",
              "      <td>15.0</td>\n",
              "      <td>[5, 5]</td>\n",
              "    </tr>\n",
              "    <tr>\n",
              "      <th>1</th>\n",
              "      <td>[3.3333333333333335, -0.6666666666666665]</td>\n",
              "      <td>6.666667</td>\n",
              "      <td>[3.3333333333333335, -3.3333333333333326]</td>\n",
              "    </tr>\n",
              "    <tr>\n",
              "      <th>2</th>\n",
              "      <td>[2.2222222222222223, 0.4444444444444442]</td>\n",
              "      <td>2.962963</td>\n",
              "      <td>[2.2222222222222223, 2.222222222222221]</td>\n",
              "    </tr>\n",
              "    <tr>\n",
              "      <th>3</th>\n",
              "      <td>[1.4814814814814816, -0.29629629629629606]</td>\n",
              "      <td>1.316872</td>\n",
              "      <td>[1.4814814814814816, -1.4814814814814803]</td>\n",
              "    </tr>\n",
              "    <tr>\n",
              "      <th>4</th>\n",
              "      <td>[0.9876543209876545, 0.1975308641975307]</td>\n",
              "      <td>0.585277</td>\n",
              "      <td>[0.9876543209876545, 0.9876543209876534]</td>\n",
              "    </tr>\n",
              "    <tr>\n",
              "      <th>5</th>\n",
              "      <td>[0.6584362139917697, -0.13168724279835375]</td>\n",
              "      <td>0.260123</td>\n",
              "      <td>[0.6584362139917697, -0.6584362139917688]</td>\n",
              "    </tr>\n",
              "    <tr>\n",
              "      <th>6</th>\n",
              "      <td>[0.4389574759945131, 0.0877914951989025]</td>\n",
              "      <td>0.11561</td>\n",
              "      <td>[0.4389574759945131, 0.4389574759945125]</td>\n",
              "    </tr>\n",
              "    <tr>\n",
              "      <th>7</th>\n",
              "      <td>[0.29263831732967543, -0.05852766346593499]</td>\n",
              "      <td>0.051382</td>\n",
              "      <td>[0.29263831732967543, -0.29263831732967494]</td>\n",
              "    </tr>\n",
              "    <tr>\n",
              "      <th>8</th>\n",
              "      <td>[0.19509221155311696, 0.03901844231062332]</td>\n",
              "      <td>0.022837</td>\n",
              "      <td>[0.19509221155311696, 0.1950922115531166]</td>\n",
              "    </tr>\n",
              "    <tr>\n",
              "      <th>9</th>\n",
              "      <td>[0.13006147436874466, -0.02601229487374887]</td>\n",
              "      <td>0.01015</td>\n",
              "      <td>[0.13006147436874466, -0.13006147436874435]</td>\n",
              "    </tr>\n",
              "    <tr>\n",
              "      <th>10</th>\n",
              "      <td>[0.0867076495791631, 0.017341529915832578]</td>\n",
              "      <td>0.004511</td>\n",
              "      <td>[0.0867076495791631, 0.08670764957916288]</td>\n",
              "    </tr>\n",
              "    <tr>\n",
              "      <th>11</th>\n",
              "      <td>[0.057805099719442074, -0.011561019943888383]</td>\n",
              "      <td>0.002005</td>\n",
              "      <td>[0.057805099719442074, -0.057805099719441914]</td>\n",
              "    </tr>\n",
              "    <tr>\n",
              "      <th>12</th>\n",
              "      <td>[0.038536733146294716, 0.00770734662925892]</td>\n",
              "      <td>0.000891</td>\n",
              "      <td>[0.038536733146294716, 0.0385367331462946]</td>\n",
              "    </tr>\n",
              "    <tr>\n",
              "      <th>13</th>\n",
              "      <td>[0.025691155430863144, -0.0051382310861726125]</td>\n",
              "      <td>0.000396</td>\n",
              "      <td>[0.025691155430863144, -0.02569115543086306]</td>\n",
              "    </tr>\n",
              "    <tr>\n",
              "      <th>14</th>\n",
              "      <td>[0.017127436953908764, 0.00342548739078174]</td>\n",
              "      <td>0.000176</td>\n",
              "      <td>[0.017127436953908764, 0.017127436953908698]</td>\n",
              "    </tr>\n",
              "    <tr>\n",
              "      <th>15</th>\n",
              "      <td>[0.011418291302605844, -0.0022836582605211594]</td>\n",
              "      <td>0.000078</td>\n",
              "      <td>[0.011418291302605844, -0.011418291302605797]</td>\n",
              "    </tr>\n",
              "    <tr>\n",
              "      <th>16</th>\n",
              "      <td>[0.007612194201737229, 0.0015224388403474393]</td>\n",
              "      <td>0.000035</td>\n",
              "      <td>[0.007612194201737229, 0.0076121942017371965]</td>\n",
              "    </tr>\n",
              "    <tr>\n",
              "      <th>17</th>\n",
              "      <td>[0.005074796134491487, -0.0010149592268982929]</td>\n",
              "      <td>0.000015</td>\n",
              "      <td>[0.005074796134491487, -0.005074796134491464]</td>\n",
              "    </tr>\n",
              "    <tr>\n",
              "      <th>18</th>\n",
              "      <td>[0.0033831974229943246, 0.0006766394845988618]</td>\n",
              "      <td>0.000007</td>\n",
              "      <td>[0.0033831974229943246, 0.003383197422994309]</td>\n",
              "    </tr>\n",
              "    <tr>\n",
              "      <th>19</th>\n",
              "      <td>[0.002255464948662883, -0.0004510929897325745]</td>\n",
              "      <td>0.000003</td>\n",
              "      <td>[0.002255464948662883, -0.0022554649486628726]</td>\n",
              "    </tr>\n",
              "  </tbody>\n",
              "</table>\n",
              "</div>\n",
              "      <button class=\"colab-df-convert\" onclick=\"convertToInteractive('df-1b6af0ed-d866-4dcf-8618-15fe60f9cdfd')\"\n",
              "              title=\"Convert this dataframe to an interactive table.\"\n",
              "              style=\"display:none;\">\n",
              "        \n",
              "  <svg xmlns=\"http://www.w3.org/2000/svg\" height=\"24px\"viewBox=\"0 0 24 24\"\n",
              "       width=\"24px\">\n",
              "    <path d=\"M0 0h24v24H0V0z\" fill=\"none\"/>\n",
              "    <path d=\"M18.56 5.44l.94 2.06.94-2.06 2.06-.94-2.06-.94-.94-2.06-.94 2.06-2.06.94zm-11 1L8.5 8.5l.94-2.06 2.06-.94-2.06-.94L8.5 2.5l-.94 2.06-2.06.94zm10 10l.94 2.06.94-2.06 2.06-.94-2.06-.94-.94-2.06-.94 2.06-2.06.94z\"/><path d=\"M17.41 7.96l-1.37-1.37c-.4-.4-.92-.59-1.43-.59-.52 0-1.04.2-1.43.59L10.3 9.45l-7.72 7.72c-.78.78-.78 2.05 0 2.83L4 21.41c.39.39.9.59 1.41.59.51 0 1.02-.2 1.41-.59l7.78-7.78 2.81-2.81c.8-.78.8-2.07 0-2.86zM5.41 20L4 18.59l7.72-7.72 1.47 1.35L5.41 20z\"/>\n",
              "  </svg>\n",
              "      </button>\n",
              "      \n",
              "  <style>\n",
              "    .colab-df-container {\n",
              "      display:flex;\n",
              "      flex-wrap:wrap;\n",
              "      gap: 12px;\n",
              "    }\n",
              "\n",
              "    .colab-df-convert {\n",
              "      background-color: #E8F0FE;\n",
              "      border: none;\n",
              "      border-radius: 50%;\n",
              "      cursor: pointer;\n",
              "      display: none;\n",
              "      fill: #1967D2;\n",
              "      height: 32px;\n",
              "      padding: 0 0 0 0;\n",
              "      width: 32px;\n",
              "    }\n",
              "\n",
              "    .colab-df-convert:hover {\n",
              "      background-color: #E2EBFA;\n",
              "      box-shadow: 0px 1px 2px rgba(60, 64, 67, 0.3), 0px 1px 3px 1px rgba(60, 64, 67, 0.15);\n",
              "      fill: #174EA6;\n",
              "    }\n",
              "\n",
              "    [theme=dark] .colab-df-convert {\n",
              "      background-color: #3B4455;\n",
              "      fill: #D2E3FC;\n",
              "    }\n",
              "\n",
              "    [theme=dark] .colab-df-convert:hover {\n",
              "      background-color: #434B5C;\n",
              "      box-shadow: 0px 1px 3px 1px rgba(0, 0, 0, 0.15);\n",
              "      filter: drop-shadow(0px 1px 2px rgba(0, 0, 0, 0.3));\n",
              "      fill: #FFFFFF;\n",
              "    }\n",
              "  </style>\n",
              "\n",
              "      <script>\n",
              "        const buttonEl =\n",
              "          document.querySelector('#df-1b6af0ed-d866-4dcf-8618-15fe60f9cdfd button.colab-df-convert');\n",
              "        buttonEl.style.display =\n",
              "          google.colab.kernel.accessAllowed ? 'block' : 'none';\n",
              "\n",
              "        async function convertToInteractive(key) {\n",
              "          const element = document.querySelector('#df-1b6af0ed-d866-4dcf-8618-15fe60f9cdfd');\n",
              "          const dataTable =\n",
              "            await google.colab.kernel.invokeFunction('convertToInteractive',\n",
              "                                                     [key], {});\n",
              "          if (!dataTable) return;\n",
              "\n",
              "          const docLinkHtml = 'Like what you see? Visit the ' +\n",
              "            '<a target=\"_blank\" href=https://colab.research.google.com/notebooks/data_table.ipynb>data table notebook</a>'\n",
              "            + ' to learn more about interactive tables.';\n",
              "          element.innerHTML = '';\n",
              "          dataTable['output_type'] = 'display_data';\n",
              "          await google.colab.output.renderOutput(dataTable, element);\n",
              "          const docLink = document.createElement('div');\n",
              "          docLink.innerHTML = docLinkHtml;\n",
              "          element.appendChild(docLink);\n",
              "        }\n",
              "      </script>\n",
              "    </div>\n",
              "  </div>\n",
              "  "
            ]
          },
          "metadata": {},
          "execution_count": 12
        }
      ],
      "source": [
        "# data : df\n",
        "df = pd.DataFrame(columns=['x', 'g(x)', 'gradient(x)'])\n",
        "x = np.array([5, 1])\n",
        "step_size = 1/3\n",
        "max_steps = 20\n",
        "\n",
        "for step in range(max_steps):\n",
        "    gval = g(x)\n",
        "    gradient = G(x)\n",
        "    df.at[step] = [x, gval, gradient]\n",
        "    x = gradient_descent(x, step_size, G)\n",
        "\n",
        "df\n",
        "\n",
        "# print('step', step)\n",
        "# print('soln', an)\n",
        "# plt.plot(x, y)\n",
        "# plt.plot(a, f(np.array(a)), '-or')"
      ]
    },
    {
      "cell_type": "code",
      "execution_count": null,
      "id": "0d04965d",
      "metadata": {
        "id": "0d04965d"
      },
      "outputs": [],
      "source": [
        "# visualization : contour? "
      ]
    },
    {
      "cell_type": "code",
      "execution_count": 13,
      "id": "b4a6086f",
      "metadata": {
        "colab": {
          "base_uri": "https://localhost:8080/",
          "height": 295
        },
        "id": "b4a6086f",
        "outputId": "5d8d6588-8c9e-4acb-9edf-5db4c4d792b8"
      },
      "outputs": [
        {
          "output_type": "display_data",
          "data": {
            "text/plain": [
              "<Figure size 432x288 with 2 Axes>"
            ],
            "image/png": "[encoded data removed]"
          },
          "metadata": {
            "needs_background": "light"
          }
        }
      ],
      "source": [
        "import numpy as np\n",
        "import matplotlib.pyplot as plt\n",
        "xlist = np.linspace(-3.0, 3.0, 100)\n",
        "ylist = np.linspace(-3.0, 3.0, 100)\n",
        "X, Y = np.meshgrid(xlist, ylist)\n",
        "Z = np.sqrt(X**2 + Y**2)\n",
        "Z = g([X, Y])\n",
        "fig, ax = plt.subplots(1,1)\n",
        "cp = ax.contourf(X, Y, Z)\n",
        "fig.colorbar(cp) # Add a colorbar to a plot\n",
        "ax.set_title('Filled Contours Plot')\n",
        "ax.set_xlabel('x (cm)')\n",
        "ax.set_ylabel('y (cm)')\n",
        "plt.show()"
      ]
    }
  ],
  "metadata": {
    "kernelspec": {
      "display_name": "Python 3",
      "language": "python",
      "name": "python3"
    },
    "language_info": {
      "codemirror_mode": {
        "name": "ipython",
        "version": 3
      },
      "file_extension": ".py",
      "mimetype": "text/x-python",
      "name": "python",
      "nbconvert_exporter": "python",
      "pygments_lexer": "ipython3",
      "version": "3.8.8"
    },
    "colab": {
      "provenance": [],
      "collapsed_sections": [],
      "include_colab_link": true
    }
  },
  "nbformat": 4,
  "nbformat_minor": 5
}