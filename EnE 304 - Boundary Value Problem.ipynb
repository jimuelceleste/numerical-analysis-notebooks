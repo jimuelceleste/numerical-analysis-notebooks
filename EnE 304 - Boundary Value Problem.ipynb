{
 "cells": [
  {
   "cell_type": "markdown",
   "id": "ce0bef7f",
   "metadata": {},
   "source": [
    "# Chapter 10, Scientific Computing, Prof. Michael Heath"
   ]
  },
  {
   "cell_type": "markdown",
   "id": "2f801fc5",
   "metadata": {},
   "source": [
    "## Computer Problem 10.1 \n",
    "\n",
    "Solve the two point BVP \n",
    "\n",
    "$$ u'' = 10u^3 + 3u + t^2, 0 < t < 1 $$\n",
    "\n",
    "with boundary conditions\n",
    "\n",
    "$$ u(0) = 0 $$ \n",
    "$$u(1) = 1$$\n",
    "\n",
    "by each of the following methods: \n",
    "- Shooting Method \n",
    "- Finite Difference Method "
   ]
  },
  {
   "cell_type": "markdown",
   "id": "5f4d01b5",
   "metadata": {},
   "source": [
    "### 1. Shooting Method using the Runge-Kutta Order 4 Method (RK4)\n",
    "\n",
    "#### 1.1. Transform the second-order ODE into a system of two first-order ODEs.\n",
    "\n",
    "Let $y_1 = u$, $y_2 = u'$, and $y = [y_1, y_2]^T$. Then $y' = [y'_1, y'_2]^T = [y_2, 10 y_1^3 + 3y_1 + t^2]^T$."
   ]
  },
  {
   "cell_type": "code",
   "execution_count": 1,
   "id": "15de6502",
   "metadata": {},
   "outputs": [],
   "source": [
    "import numpy as np \n",
    "\n",
    "def y_prime(t, y):\n",
    "    y1 = y[0]\n",
    "    y2 = y[1]\n",
    "    \n",
    "    new_y1 = y2 \n",
    "    new_y2 = 10 * np.power(y1, 3) + 3 * y1 + np.power(t, 2)\n",
    "    \n",
    "    return np.array([new_y1, new_y2])"
   ]
  },
  {
   "cell_type": "markdown",
   "id": "3b3492be",
   "metadata": {},
   "source": [
    "#### 1.2. Define the ODE solver: Runge-Kutta 4 (RK4)"
   ]
  },
  {
   "cell_type": "code",
   "execution_count": 2,
   "id": "a23d82be",
   "metadata": {},
   "outputs": [],
   "source": [
    "def rk4(f, t0, y0, tn, h):\n",
    "    \"\"\"\n",
    "    f  model\n",
    "    t0 starting time\n",
    "    y0 initial value\n",
    "    tn time n\n",
    "    h  step size\n",
    "    \"\"\"\n",
    "    # Output variables \n",
    "    t = [t0]\n",
    "    y = [y0]\n",
    "    \n",
    "    # current time (ti) and estimate (yi)\n",
    "    ti = t0\n",
    "    yi = y0\n",
    "    \n",
    "    while ti < tn:\n",
    "        ti = ti + h\n",
    "        \n",
    "        # RK4 Definition\n",
    "        k1 = f(ti, yi)\n",
    "        k2 = f(ti+h/2, yi+h*k1/2)\n",
    "        k3 = f(ti+h/2, yi+h*k2/2)\n",
    "        k4 = f(ti+h, yi+h*k3)\n",
    "        yi = yi + h/6*(k1+2*k2+2*k3+k4)\n",
    "        \n",
    "        # Appends time and estimate to result variables\n",
    "        t.append(ti)\n",
    "        y.append(yi)\n",
    "        \n",
    "    return t, y"
   ]
  },
  {
   "cell_type": "markdown",
   "id": "9c671d6a",
   "metadata": {},
   "source": [
    "#### 1.3. Guess the slope u' of the solution."
   ]
  },
  {
   "cell_type": "code",
   "execution_count": 8,
   "id": "0fec8e91",
   "metadata": {},
   "outputs": [
    {
     "name": "stdout",
     "output_type": "stream",
     "text": [
      "0.5 1.0761849308083355\n",
      "0.49 1.0481810501160067\n",
      "0.48 1.02079306130263\n",
      "0.47 0.9939941777554209\n"
     ]
    },
    {
     "data": {
      "image/png": "[encoded data removed]",
      "text/plain": [
       "<Figure size 432x288 with 1 Axes>"
      ]
     },
     "metadata": {
      "needs_background": "light"
     },
     "output_type": "display_data"
    }
   ],
   "source": [
    "import matplotlib.pyplot as plt \n",
    "\n",
    "plt.scatter(0, 0, label=\"u(0)=0\")\n",
    "plt.scatter(1, 1, label=\"u(1)=1\")\n",
    "plt.legend()\n",
    "\n",
    "f = y_prime              # the ODE to solve\n",
    "t0 = 0                   # start point\n",
    "tn = 1                   # end point\n",
    "h = 0.001          # RK4 step size\n",
    "\n",
    "u1 = 1                    # end boundary condition: u(1) = 1 \n",
    "slope = 0.5               # guess for the slope\n",
    "slope_step = 0.01 # 0.01   # slope step\n",
    "etol = 0.01         # error tolerance\n",
    "error = 1                 # error \n",
    "\n",
    "while error > etol:\n",
    "    y0 = np.array([0, slope])               # [solution, slope]\n",
    "    t, y = rk4(f, t0, y0, tn, h)            # solves the IVP using RK4\n",
    "    solution = [point[0] for point in y]    # gets the solution for plotting\n",
    "    u1_guess = solution[-1]                 # approximate solution for u(1)\n",
    "    \n",
    "    # Plotting\n",
    "    plt.plot(t, solution)\n",
    "    print(slope, u1_guess)\n",
    "    \n",
    "    # Guessing the slope\n",
    "    if u1_guess > u1:\n",
    "        slope = slope - slope_step\n",
    "    elif u1_guess < u1: \n",
    "        slope = slope + slope_step\n",
    "    \n",
    "    # Error Computation\n",
    "    error = np.abs(u1 - u1_guess)"
   ]
  },
  {
   "cell_type": "markdown",
   "id": "38f9e702",
   "metadata": {},
   "source": [
    "### 2. Finite Difference Method "
   ]
  },
  {
   "cell_type": "markdown",
   "id": "20a78606",
   "metadata": {},
   "source": [
    "#### 2.1. Define the Finite Difference Approximation:\n",
    "\n",
    "$$ y''_i \\approx \\frac{y_{i+1} - 2y_i + y_{i-1}}{h^2} $$  \n",
    "$$ 10u^3 + 3u + t^2 \\approx \\frac{y_{i+1} - 2y_i + y_{i-1}}{h^2} $$\n",
    "\n",
    "Let $y_i = u$, then \n",
    "$$ 10y_i^3 + 3y_i + t^2 \\approx \\frac{y_{i+1} - 2y_i + y_{i-1}}{h^2} $$\n",
    "$$ 10y_i^3 + \\frac{3h^2 + 2}{h^2} y_i - (\\frac{ y_{i+1} + y_{i-1} }{h^2} - t^2) \\approx 0 $$\n",
    "\n",
    "We have a Cubic Equation, i.e., $ax^3 + bx^2 + cx + d = 0$.\n",
    "- $a = 10$\n",
    "- $b = 0$\n",
    "- $c = \\frac{3h^2 + 2}{h^2}$\n",
    "- $d = - (\\frac{ y_{i+1} + y_{i-1} }{h^2} - t^2)$"
   ]
  },
  {
   "cell_type": "markdown",
   "id": "3b2d3e9c",
   "metadata": {},
   "source": [
    "#### 2.2. Define the cubic equation solver.\n",
    "\n",
    "Code of Shril on GitHub: https://github.com/shril/CubicEquationSolver"
   ]
  },
  {
   "cell_type": "code",
   "execution_count": 4,
   "id": "7b8251c3",
   "metadata": {},
   "outputs": [],
   "source": [
    "import CubicEquationSolver\n",
    "# CubicEquationSolver.solve(1, 0, 1, 0)"
   ]
  },
  {
   "cell_type": "markdown",
   "id": "9915e643",
   "metadata": {},
   "source": [
    "#### 2.3 Define the Finite Difference Method"
   ]
  },
  {
   "cell_type": "code",
   "execution_count": 5,
   "id": "5001bd20",
   "metadata": {},
   "outputs": [],
   "source": [
    "def finite_difference_approximation(ystart, yend, h, t):\n",
    "    a = 10\n",
    "    b = 0\n",
    "    c = (3 * h**2 + 2) / h**2\n",
    "    d = - (((ystart + yend) / h**2) - t**2)\n",
    "    return CubicEquationSolver.solve(a, b, c, d)"
   ]
  },
  {
   "cell_type": "markdown",
   "id": "092d4b73",
   "metadata": {},
   "source": [
    "#### 2.4. Solve the BVP"
   ]
  },
  {
   "cell_type": "code",
   "execution_count": 6,
   "id": "04bd0112",
   "metadata": {},
   "outputs": [
    {
     "name": "stderr",
     "output_type": "stream",
     "text": [
      "/Users/jimuelcelestejr/opt/anaconda3/lib/python3.8/site-packages/numpy/core/_asarray.py:102: ComplexWarning: Casting complex values to real discards the imaginary part\n",
      "  return array(a, dtype, copy=False, order=order)\n"
     ]
    },
    {
     "data": {
      "text/plain": [
       "[<matplotlib.lines.Line2D at 0x7ff1d8cb9df0>]"
      ]
     },
     "execution_count": 6,
     "metadata": {},
     "output_type": "execute_result"
    },
    {
     "data": {
      "image/png": "[encoded data removed]",
      "text/plain": [
       "<Figure size 432x288 with 1 Axes>"
      ]
     },
     "metadata": {
      "needs_background": "light"
     },
     "output_type": "display_data"
    }
   ],
   "source": [
    "size = lambda n: 1 / (n + 1)\n",
    "ystart = 0 \n",
    "yend = 1\n",
    "t = 0.5\n",
    "n = 3\n",
    "y = finite_difference_approximation(ystart, yend, h, t)\n",
    "plt.plot([ystart, y[0], yend], \"o-\")"
   ]
  }
 ],
 "metadata": {
  "kernelspec": {
   "display_name": "Python 3",
   "language": "python",
   "name": "python3"
  },
  "language_info": {
   "codemirror_mode": {
    "name": "ipython",
    "version": 3
   },
   "file_extension": ".py",
   "mimetype": "text/x-python",
   "name": "python",
   "nbconvert_exporter": "python",
   "pygments_lexer": "ipython3",
   "version": "3.8.8"
  }
 },
 "nbformat": 4,
 "nbformat_minor": 5
}
